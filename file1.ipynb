{
  "nbformat": 4,
  "nbformat_minor": 0,
  "metadata": {
    "colab": {
      "provenance": [],
      "collapsed_sections": []
    },
    "kernelspec": {
      "name": "python3",
      "display_name": "Python 3"
    },
    "language_info": {
      "name": "python"
    }
  },
  "cells": [
    {
      "cell_type": "code",
      "execution_count": null,
      "metadata": {
        "colab": {
          "base_uri": "https://localhost:8080/"
        },
        "id": "pvPQ5DjDlXdy",
        "outputId": "623b22f0-4ff2-4245-96aa-b36d4ab5e7be"
      },
      "outputs": [
        {
          "output_type": "stream",
          "name": "stdout",
          "text": [
            "Hello Haritha\n"
          ]
        }
      ],
      "source": [
        "print(\"Hello Haritha\")"
      ]
    },
    {
      "cell_type": "code",
      "source": [
        "import numpy as np\n",
        "import pandas as pd\n",
        "import sklearn as sk\n",
        "import matplotlib.pyplot as mlp\n",
        "import seaborn as sb"
      ],
      "metadata": {
        "id": "LHXad4yjlkQo"
      },
      "execution_count": null,
      "outputs": []
    },
    {
      "cell_type": "code",
      "source": [
        "import pandas as pd\n",
        "a=[3,7,3]\n",
        "var=pd.Series(a)\n",
        "print(var)"
      ],
      "metadata": {
        "colab": {
          "base_uri": "https://localhost:8080/"
        },
        "id": "UAhVLmIcmAzL",
        "outputId": "47eb6748-9b80-453b-8a84-6754d77aa22d"
      },
      "execution_count": null,
      "outputs": [
        {
          "output_type": "stream",
          "name": "stdout",
          "text": [
            "0    3\n",
            "1    7\n",
            "2    3\n",
            "dtype: int64\n"
          ]
        }
      ]
    },
    {
      "cell_type": "code",
      "source": [
        "import pandas as pd\n",
        "a=[3,7,3]\n",
        "var=pd.Series(a,index=[\"a\",\"b\",\"c\"])\n",
        "print(var)"
      ],
      "metadata": {
        "colab": {
          "base_uri": "https://localhost:8080/"
        },
        "id": "0JoAcm6vm7xM",
        "outputId": "d6e047a0-0ed1-495d-fea4-4e572ea1699b"
      },
      "execution_count": null,
      "outputs": [
        {
          "output_type": "stream",
          "name": "stdout",
          "text": [
            "a    3\n",
            "b    7\n",
            "c    3\n",
            "dtype: int64\n"
          ]
        }
      ]
    },
    {
      "cell_type": "code",
      "source": [
        "import pandas as pd\n",
        "a=[3,7,3]\n",
        "var=pd.Series(a)\n",
        "print(var[1])"
      ],
      "metadata": {
        "colab": {
          "base_uri": "https://localhost:8080/"
        },
        "id": "KOBD78t2nX-y",
        "outputId": "c018a0de-26ea-42f9-cf8c-fac9b9b89e61"
      },
      "execution_count": null,
      "outputs": [
        {
          "output_type": "stream",
          "name": "stdout",
          "text": [
            "7\n"
          ]
        }
      ]
    },
    {
      "cell_type": "code",
      "source": [
        "import pandas as pd\n",
        "a=[3,7,3]\n",
        "var=pd.Series(a,index=[\"a\",\"b\",\"c\"])\n",
        "print(var[\"a\"])"
      ],
      "metadata": {
        "colab": {
          "base_uri": "https://localhost:8080/"
        },
        "id": "CV8fEHPAndVD",
        "outputId": "279e0983-82af-4bd8-ce13-2e4febe2c9f7"
      },
      "execution_count": null,
      "outputs": [
        {
          "output_type": "stream",
          "name": "stdout",
          "text": [
            "3\n"
          ]
        }
      ]
    },
    {
      "cell_type": "code",
      "source": [
        "\n",
        "data={\"calories\":[34,56,78],\"duration\":[1,2,3]}\n",
        "df=pd.DataFrame(data)\n",
        "print(df)"
      ],
      "metadata": {
        "colab": {
          "base_uri": "https://localhost:8080/"
        },
        "id": "zWwuhZstny4b",
        "outputId": "ae8f5922-22e8-421a-9976-45ff28989e0f"
      },
      "execution_count": null,
      "outputs": [
        {
          "output_type": "stream",
          "name": "stdout",
          "text": [
            "   calories  duration\n",
            "0        34         1\n",
            "1        56         2\n",
            "2        78         3\n"
          ]
        }
      ]
    },
    {
      "cell_type": "code",
      "source": [
        "a=[1,2,3,4]\n",
        "b=[3,4,5]\n",
        "x=mlp.hist(a)\n",
        "print(x)\n"
      ],
      "metadata": {
        "colab": {
          "base_uri": "https://localhost:8080/",
          "height": 282
        },
        "id": "k4a1Sa_bq4A6",
        "outputId": "14087f63-7a9b-433e-e8d1-0f848d459cdc"
      },
      "execution_count": null,
      "outputs": [
        {
          "output_type": "stream",
          "name": "stdout",
          "text": [
            "(array([1., 0., 0., 1., 0., 0., 1., 0., 0., 1.]), array([1. , 1.3, 1.6, 1.9, 2.2, 2.5, 2.8, 3.1, 3.4, 3.7, 4. ]), <a list of 10 Patch objects>)\n"
          ]
        },
        {
          "output_type": "display_data",
          "data": {
            "text/plain": [
              "<Figure size 432x288 with 1 Axes>"
            ],
            "image/png": "[encoded data removed]"
          },
          "metadata": {
            "needs_background": "light"
          }
        }
      ]
    },
    {
      "cell_type": "code",
      "source": [],
      "metadata": {
        "id": "Uap4ly1Lt4Nh"
      },
      "execution_count": null,
      "outputs": []
    },
    {
      "cell_type": "code",
      "source": [
        "a=[1,2,3,4]\n",
        "b=[3,4,5]\n",
        "x=mlp.violinplot(a)\n",
        "print(x)\n"
      ],
      "metadata": {
        "colab": {
          "base_uri": "https://localhost:8080/",
          "height": 302
        },
        "id": "SQNfwUoVt5mA",
        "outputId": "b051b04f-f8c1-497a-cb19-f638c812b699"
      },
      "execution_count": null,
      "outputs": [
        {
          "output_type": "stream",
          "name": "stdout",
          "text": [
            "{'bodies': [<matplotlib.collections.PolyCollection object at 0x7fb9ec87fc90>], 'cmaxes': <matplotlib.collections.LineCollection object at 0x7fb9ec87fb10>, 'cmins': <matplotlib.collections.LineCollection object at 0x7fb9ec87fd50>, 'cbars': <matplotlib.collections.LineCollection object at 0x7fb9ec87fd90>}\n"
          ]
        },
        {
          "output_type": "display_data",
          "data": {
            "text/plain": [
              "<Figure size 432x288 with 1 Axes>"
            ],
            "image/png": "[encoded data removed]"
          },
          "metadata": {
            "needs_background": "light"
          }
        }
      ]
    },
    {
      "cell_type": "code",
      "source": [],
      "metadata": {
        "id": "MEUfJLyjy1ae"
      },
      "execution_count": null,
      "outputs": []
    },
    {
      "cell_type": "code",
      "source": [
        "a=[1,2,3,4]\n",
        "b=[3,4,5]\n",
        "x=mlp.pie(a)\n",
        "print(x)\n"
      ],
      "metadata": {
        "colab": {
          "base_uri": "https://localhost:8080/",
          "height": 285
        },
        "id": "UhjXSzDUtZcB",
        "outputId": "bcec298c-da3b-45e0-87f0-3a034ee04261"
      },
      "execution_count": null,
      "outputs": [
        {
          "output_type": "stream",
          "name": "stdout",
          "text": [
            "([<matplotlib.patches.Wedge object at 0x7fb9ecab0ad0>, <matplotlib.patches.Wedge object at 0x7fb9ecab0e90>, <matplotlib.patches.Wedge object at 0x7fb9ecabd410>, <matplotlib.patches.Wedge object at 0x7fb9ecabd4d0>], [Text(1.0461621663333946, 0.3399186987098808, ''), Text(0.33991867422268784, 1.0461621742897658, ''), Text(-1.0461621902025062, 0.3399186252483017, ''), Text(0.3399188211458418, -1.0461621265515308, '')])\n"
          ]
        },
        {
          "output_type": "display_data",
          "data": {
            "text/plain": [
              "<Figure size 432x288 with 1 Axes>"
            ],
            "image/png": "[encoded data removed]"
          },
          "metadata": {}
        }
      ]
    },
    {
      "cell_type": "code",
      "source": [
        "a=[1,2,3,4]\n",
        "b=[3,4,5]\n",
        "x=mlp.boxplot(a)\n",
        "print(x)\n"
      ],
      "metadata": {
        "colab": {
          "base_uri": "https://localhost:8080/",
          "height": 302
        },
        "id": "zrK_hNC_tnKQ",
        "outputId": "a0ff8e51-fd09-470f-e521-43102e35c8ed"
      },
      "execution_count": null,
      "outputs": [
        {
          "output_type": "stream",
          "name": "stdout",
          "text": [
            "{'whiskers': [<matplotlib.lines.Line2D object at 0x7fb9ec7f4ed0>, <matplotlib.lines.Line2D object at 0x7fb9ec7fc4d0>], 'caps': [<matplotlib.lines.Line2D object at 0x7fb9ec7fca10>, <matplotlib.lines.Line2D object at 0x7fb9ec7fcf50>], 'boxes': [<matplotlib.lines.Line2D object at 0x7fb9ec7f4b50>], 'medians': [<matplotlib.lines.Line2D object at 0x7fb9ec8044d0>], 'fliers': [<matplotlib.lines.Line2D object at 0x7fb9ec804a50>], 'means': []}\n"
          ]
        },
        {
          "output_type": "display_data",
          "data": {
            "text/plain": [
              "<Figure size 432x288 with 1 Axes>"
            ],
            "image/png": "[encoded data removed]"
          },
          "metadata": {
            "needs_background": "light"
          }
        }
      ]
    },
    {
      "cell_type": "code",
      "source": [],
      "metadata": {
        "id": "IfvGifFHy33d"
      },
      "execution_count": null,
      "outputs": []
    }
  ]
}