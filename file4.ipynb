{
  "nbformat": 4,
  "nbformat_minor": 0,
  "metadata": {
    "colab": {
      "provenance": [],
      "collapsed_sections": []
    },
    "kernelspec": {
      "name": "python3",
      "display_name": "Python 3"
    },
    "language_info": {
      "name": "python"
    }
  },
  "cells": [
    {
      "cell_type": "code",
      "execution_count": null,
      "metadata": {
        "colab": {
          "base_uri": "https://localhost:8080/"
        },
        "id": "DdMbOgy3Ecr2",
        "outputId": "0841cd05-0a5e-48cb-de5a-825809fa86db"
      },
      "outputs": [
        {
          "output_type": "stream",
          "name": "stdout",
          "text": [
            "<IntegerArray>\n",
            "[1, 2, 3, 4]\n",
            "Length: 4, dtype: Int64\n"
          ]
        }
      ],
      "source": [
        "import pandas as p\n",
        "import matplotlib.pyplot as plt\n",
        "import statistics as st\n",
        "\n",
        "\n",
        "a=[1,2,3,4]\n",
        "arr=p.array(a)\n",
        "print(arr)\n",
        "\n"
      ]
    },
    {
      "cell_type": "code",
      "source": [
        "a=[1,2,3,4,5,6]\n",
        "arr=p.array(a[2:6])\n",
        "for i in arr:\n",
        "  print(i)"
      ],
      "metadata": {
        "colab": {
          "base_uri": "https://localhost:8080/"
        },
        "id": "OOBzrqUGFhLO",
        "outputId": "17e80066-5bc3-40eb-a273-4007c15838fb"
      },
      "execution_count": null,
      "outputs": [
        {
          "output_type": "stream",
          "name": "stdout",
          "text": [
            "3\n",
            "4\n",
            "5\n",
            "6\n"
          ]
        }
      ]
    }
  ]
}